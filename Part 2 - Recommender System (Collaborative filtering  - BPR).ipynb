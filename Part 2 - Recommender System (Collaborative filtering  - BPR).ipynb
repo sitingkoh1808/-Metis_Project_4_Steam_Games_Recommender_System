{
 "cells": [
  {
   "cell_type": "markdown",
   "metadata": {},
   "source": [
    "# 1 BPR Algorithm\n",
    "1.1 Personalized Ranking from Implicit Feedback\n",
    "The task of personalized ranking aims at providing each user a ranked list of items (recommendations). This is very common in scenarios where recommender systems are based on implicit user behavior (e.g. purchases, clicks). The available observations are only positive feedback where the non-observed ones are a mixture of real negative feedback and missing values.\n",
    "\n",
    "One usual approach for item recommendation is directly predicting a preference score $\\hat{x}_{u,i}$ given to item $i$ by user $u$. BPR uses a different approach by using item pairs $(i, j)$ and optimizing for the correct ranking given preference of user $u$, thus, there are notions of positive and negative items. The training data $D_S : U \\times I \\times I$ is defined as:\n",
    "\n",
    "$$D_S = \\{(u, i, j) \\mid i \\in I^{+}_{u} \\wedge j \\in I \\setminus I^{+}_{u}\\}$$\n",
    "where user $u$ is assumed to prefer $i$ over $j$ (i.e. $i$ is a positive item and $j$ is a negative item).\n",
    "1.2 Objective Function\n",
    "From the Bayesian perspective, BPR maximizes the posterior probability over the model parameters $\\Theta$ by optimizing the likelihood function $p(i &gt;_{u} j | \\Theta)$ and the prior probability $p(\\Theta)$.\n",
    "\n",
    "$$p(\\Theta \\mid &gt;_{u}) \\propto p(i &gt;_{u} j \\mid \\Theta) \\times p(\\Theta)$$\n",
    "The joint probability of the likelihood over all users $u \\in U$ can be simplified to:\n",
    "\n",
    "$$ \\prod_{u \\in U} p(&gt;_{u} \\mid \\Theta) = \\prod_{(u, i, j) \\in D_S} p(i &gt;_{u} j \\mid \\Theta) $$\n",
    "The individual probability that a user $u$ prefers item $i$ to item $j$ can be defined as:\n",
    "\n",
    "$$ p(i &gt;_{u} j \\mid \\Theta) = \\sigma (\\hat{x}_{uij}(\\Theta)) $$\n",
    "where $\\sigma$ is the logistic sigmoid:\n",
    "\n",
    "$$ \\sigma(x) = \\frac{1}{1 + e^{-x}} $$\n",
    "The preference scoring function $\\hat{x}_{uij}(\\Theta)$ could be an arbitrary real-valued function of the model parameter $\\Theta$. Thus, it makes BPR a general framework for modeling the relationship between triplets $(u, i, j)$ where different model classes like matrix factorization could be used for estimating $\\hat{x}_{uij}(\\Theta)$.\n",
    "\n",
    "For the prior, one of the common pratices is to choose $p(\\Theta)$ following a normal distribution, which results in a nice form of L2 regularization in the final log-form of the objective function.\n",
    "\n",
    "$$ p(\\Theta) \\sim N(0, \\Sigma_{\\Theta}) $$\n",
    "To reduce the complexity of the model, all parameters $\\Theta$ are assumed to be independent and having the same variance, which gives a simpler form of the co-variance matrix $\\Sigma_{\\Theta} = \\lambda_{\\Theta}I$. Thus, there are less number of hyperparameters to be determined.\n",
    "\n",
    "The final objective of the maximum posterior estimator:\n",
    "\n",
    "$$ J = \\sum_{(u, i, j) \\in D_S} \\text{ln } \\sigma(\\hat{x}_{uij}) - \\lambda_{\\Theta} ||\\Theta||^2 $$\n",
    "where $\\lambda_\\Theta$ are the model specific regularization paramerters.\n",
    "\n",
    "1.3 Learning with Matrix Factorization\n",
    "Stochastic Gradient Descent\n",
    "As the defined objective function is differentible, gradient descent based method for optimization is naturally adopted. The gradient of the objective $J$ with respect to the model parameters:\n",
    "\n",
    "$$\n",
    "\\begin{align}\n",
    "\\frac{\\partial J}{\\partial \\Theta} &amp; = \\sum_{(u, i, j) \\in D_S} \\frac{\\partial}{\\partial \\Theta} \\text{ln} \\ \\sigma(\\hat{x}_{uij}) - \\lambda_{\\Theta} \\frac{\\partial}{\\partial \\Theta} ||\\Theta||^2 \\\\\n",
    "&amp; \\propto \\sum_{(u, i, j) \\in D_S} \\frac{-e^{-\\hat{x}_{uij}}}{1 + e^{-\\hat{x}_{uij}}} \\cdot  \\frac{\\partial}{\\partial \\Theta} \\hat{x}_{uij} - \\lambda_{\\Theta} \\Theta\n",
    "\\end{align}\n",
    "$$\n",
    "Due to slow convergence of full gradient descent, we prefer using stochastic gradient descent to optimize the BPR model. For each triplet $(u, i, j) \\in D_S$, the update rule for the parameters:\n",
    "\n",
    "$$ \\Theta \\leftarrow \\Theta + \\alpha \\Big( \\frac{e^{-\\hat{x}_{uij}}}{1 + e^{-\\hat{x}_{uij}}} \\cdot \\frac{\\partial}{\\partial \\Theta} \\hat{x}_{uij} + \\lambda_\\Theta \\Theta \\Big) $$\n",
    "Matrix Factorization for Preference Approximation\n",
    "As mentioned earlier, the preference scoring function $\\hat{x}_{uij}(\\Theta)$ could be approximated by any real-valued function. First, the estimator $\\hat{x}_{uij}$ is decomposed into:\n",
    "\n",
    "$$ \\hat{x}_{uij} = \\hat{x}_{ui} - \\hat{x}_{uj} $$\n",
    "The problem of estimating $\\hat{x}_{ui}$ is a standard collaborative filtering formulation, where matrix factorization approach has shown to be very effective. The prediction formula can written as dot product between user feature vector $w_u$ and item feature vector $h_i$:\n",
    "\n",
    "$$ \\hat{x}_{ui} = \\langle w_u , h_i \\rangle = \\sum_{f=1}^{k} w_{uf} \\cdot h_{if} $$\n",
    "The derivatives of matrix factorization with respect to the model parameters are:\n",
    "\n",
    "$$\n",
    "\\frac{\\partial}{\\partial \\theta} \\hat{x}_{uij} = \n",
    "\\begin{cases}\n",
    "    (h_{if} - h_{jf})  &amp; \\text{if } \\theta = w_{uf} \\\\\n",
    "    w_{uf}             &amp; \\text{if } \\theta = h_{if} \\\\\n",
    "    -w_{uf}            &amp; \\text{if } \\theta = h_{jf} \\\\\n",
    "    0                  &amp; \\text{else}\n",
    "\\end{cases}\n",
    "$$\n",
    "In theory, any kernel can be used to estimate $\\hat{x}_{ui}$ besides the dot product $ \\langle \\cdot , \\cdot \\rangle $. For example, k-Nearest-Neighbor (kNN) has also been shown to achieve good performance.\n",
    "\n",
    "Analogies to AUC optimization\n",
    "By optimizing the objective function of BPR model, we effectively maximizing AUC measurement. To keep the notebook focused, please refer to the paper for details of the analysis (Section 4.1.1).\n",
    "\n",
    "# 2 Cornac implementation of BPR\n",
    "BPR is implemented in the Cornac framework as part of the model collections.\n",
    "\n",
    "Detailed documentations of the BPR model in Cornac can be found here.\n",
    "Source codes of the BPR implementation is available on the Cornac Github repository, which can be found here.\n",
    "\n",
    "# 3 Cornac BPR game recommender\n",
    "### 3.1 Load and split data\n",
    "To evaluate the performance of item recommendation, we adopted the provided python_random_split tool for the consistency. Data is randomly split into training and test sets with the ratio of 75/25."
   ]
  },
  {
   "cell_type": "code",
   "execution_count": null,
   "metadata": {},
   "outputs": [],
   "source": [
    "import numpy as np\n",
    "import pandas as pd\n",
    "import matplotlib.pyplot as plt\n",
    "import seaborn as sns\n",
    "\n",
    "# sets backend to render higher res images\n",
    "%config InlineBackend.figure_formats = ['retina']\n",
    "\n",
    "sns.set_style(\"white\")"
   ]
  },
  {
   "cell_type": "code",
   "execution_count": 32,
   "metadata": {},
   "outputs": [
    {
     "data": {
      "text/html": [
       "<div>\n",
       "<style scoped>\n",
       "    .dataframe tbody tr th:only-of-type {\n",
       "        vertical-align: middle;\n",
       "    }\n",
       "\n",
       "    .dataframe tbody tr th {\n",
       "        vertical-align: top;\n",
       "    }\n",
       "\n",
       "    .dataframe thead th {\n",
       "        text-align: right;\n",
       "    }\n",
       "</style>\n",
       "<table border=\"1\" class=\"dataframe\">\n",
       "  <thead>\n",
       "    <tr style=\"text-align: right;\">\n",
       "      <th></th>\n",
       "      <th>user</th>\n",
       "      <th>game</th>\n",
       "      <th>hours</th>\n",
       "      <th>purchase</th>\n",
       "      <th>play</th>\n",
       "    </tr>\n",
       "  </thead>\n",
       "  <tbody>\n",
       "    <tr>\n",
       "      <th>0</th>\n",
       "      <td>5250</td>\n",
       "      <td>Alien Swarm</td>\n",
       "      <td>4.9</td>\n",
       "      <td>1</td>\n",
       "      <td>1</td>\n",
       "    </tr>\n",
       "    <tr>\n",
       "      <th>1</th>\n",
       "      <td>5250</td>\n",
       "      <td>Cities Skylines</td>\n",
       "      <td>144.0</td>\n",
       "      <td>1</td>\n",
       "      <td>1</td>\n",
       "    </tr>\n",
       "    <tr>\n",
       "      <th>2</th>\n",
       "      <td>5250</td>\n",
       "      <td>Counter-Strike</td>\n",
       "      <td>0.0</td>\n",
       "      <td>1</td>\n",
       "      <td>0</td>\n",
       "    </tr>\n",
       "    <tr>\n",
       "      <th>3</th>\n",
       "      <td>5250</td>\n",
       "      <td>Counter-Strike Source</td>\n",
       "      <td>0.0</td>\n",
       "      <td>1</td>\n",
       "      <td>0</td>\n",
       "    </tr>\n",
       "    <tr>\n",
       "      <th>4</th>\n",
       "      <td>5250</td>\n",
       "      <td>Day of Defeat</td>\n",
       "      <td>0.0</td>\n",
       "      <td>1</td>\n",
       "      <td>0</td>\n",
       "    </tr>\n",
       "    <tr>\n",
       "      <th>...</th>\n",
       "      <td>...</td>\n",
       "      <td>...</td>\n",
       "      <td>...</td>\n",
       "      <td>...</td>\n",
       "      <td>...</td>\n",
       "    </tr>\n",
       "    <tr>\n",
       "      <th>128799</th>\n",
       "      <td>309626088</td>\n",
       "      <td>Age of Empires II HD Edition</td>\n",
       "      <td>6.7</td>\n",
       "      <td>1</td>\n",
       "      <td>1</td>\n",
       "    </tr>\n",
       "    <tr>\n",
       "      <th>128800</th>\n",
       "      <td>309812026</td>\n",
       "      <td>Counter-Strike Nexon Zombies</td>\n",
       "      <td>0.0</td>\n",
       "      <td>1</td>\n",
       "      <td>0</td>\n",
       "    </tr>\n",
       "    <tr>\n",
       "      <th>128801</th>\n",
       "      <td>309812026</td>\n",
       "      <td>Robocraft</td>\n",
       "      <td>0.0</td>\n",
       "      <td>1</td>\n",
       "      <td>0</td>\n",
       "    </tr>\n",
       "    <tr>\n",
       "      <th>128802</th>\n",
       "      <td>309824202</td>\n",
       "      <td>Dota 2</td>\n",
       "      <td>0.7</td>\n",
       "      <td>1</td>\n",
       "      <td>1</td>\n",
       "    </tr>\n",
       "    <tr>\n",
       "      <th>128803</th>\n",
       "      <td>309903146</td>\n",
       "      <td>Dota 2</td>\n",
       "      <td>0.2</td>\n",
       "      <td>1</td>\n",
       "      <td>1</td>\n",
       "    </tr>\n",
       "  </tbody>\n",
       "</table>\n",
       "<p>128804 rows × 5 columns</p>\n",
       "</div>"
      ],
      "text/plain": [
       "             user                          game  hours  purchase  play\n",
       "0            5250                   Alien Swarm    4.9         1     1\n",
       "1            5250               Cities Skylines  144.0         1     1\n",
       "2            5250                Counter-Strike    0.0         1     0\n",
       "3            5250         Counter-Strike Source    0.0         1     0\n",
       "4            5250                 Day of Defeat    0.0         1     0\n",
       "...           ...                           ...    ...       ...   ...\n",
       "128799  309626088  Age of Empires II HD Edition    6.7         1     1\n",
       "128800  309812026  Counter-Strike Nexon Zombies    0.0         1     0\n",
       "128801  309812026                     Robocraft    0.0         1     0\n",
       "128802  309824202                        Dota 2    0.7         1     1\n",
       "128803  309903146                        Dota 2    0.2         1     1\n",
       "\n",
       "[128804 rows x 5 columns]"
      ]
     },
     "execution_count": 32,
     "metadata": {},
     "output_type": "execute_result"
    }
   ],
   "source": [
    "df = pd.read_csv('steam-200k-cleaned.csv')\n",
    "df"
   ]
  },
  {
   "cell_type": "code",
   "execution_count": 33,
   "metadata": {},
   "outputs": [],
   "source": [
    "# Drop NaN columns\n",
    "data = df.dropna()\n",
    "data = df.copy()"
   ]
  },
  {
   "cell_type": "code",
   "execution_count": 36,
   "metadata": {},
   "outputs": [],
   "source": [
    "# Create a numeric user_id and artist_id column\n",
    "data['user'] = data['user'].astype(\"category\")\n",
    "data['game'] = data['game'].astype(\"category\")\n",
    "data['user_id'] = data['user'].cat.codes\n",
    "data['game_id'] = data['game'].cat.codes\n",
    "\n",
    "data['user_id'] = data['user_id'].astype(np.int64)\n",
    "data['game_id'] = data['game_id'].astype(np.int64)\n",
    "\n",
    "data = data.drop(['user', 'game','purchase','play'], axis=1)"
   ]
  },
  {
   "cell_type": "code",
   "execution_count": 37,
   "metadata": {},
   "outputs": [
    {
     "name": "stdout",
     "output_type": "stream",
     "text": [
      "<class 'pandas.core.frame.DataFrame'>\n",
      "RangeIndex: 128804 entries, 0 to 128803\n",
      "Data columns (total 3 columns):\n",
      " #   Column   Non-Null Count   Dtype  \n",
      "---  ------   --------------   -----  \n",
      " 0   hours    128804 non-null  float64\n",
      " 1   user_id  128804 non-null  int64  \n",
      " 2   game_id  128804 non-null  int64  \n",
      "dtypes: float64(1), int64(2)\n",
      "memory usage: 2.9 MB\n"
     ]
    }
   ],
   "source": [
    "data.info()"
   ]
  },
  {
   "cell_type": "code",
   "execution_count": 38,
   "metadata": {},
   "outputs": [
    {
     "name": "stdout",
     "output_type": "stream",
     "text": [
      "System version: 3.6.12 |Anaconda, Inc.| (default, Sep  9 2020, 00:29:25) [MSC v.1916 64 bit (AMD64)]\n",
      "Cornac version: 1.8.0\n"
     ]
    }
   ],
   "source": [
    "import sys\n",
    "sys.path.append(\"../../\")\n",
    "import os\n",
    "import cornac\n",
    "# import papermill as pm\n",
    "import pandas as pd\n",
    "from reco_utils.dataset import movielens\n",
    "from reco_utils.dataset.python_splitters import python_random_split\n",
    "from reco_utils.evaluation.python_evaluation import map_at_k, ndcg_at_k, precision_at_k, recall_at_k\n",
    "from reco_utils.recommender.cornac.cornac_utils import predict_ranking\n",
    "from reco_utils.common.timer import Timer\n",
    "from reco_utils.common.constants import SEED\n",
    "\n",
    "print(\"System version: {}\".format(sys.version))\n",
    "print(\"Cornac version: {}\".format(cornac.__version__))"
   ]
  },
  {
   "cell_type": "code",
   "execution_count": 39,
   "metadata": {},
   "outputs": [],
   "source": [
    "# top k items to recommend\n",
    "TOP_K = 10\n",
    "\n",
    "# Model parameters\n",
    "NUM_FACTORS = 200\n",
    "NUM_EPOCHS = 100"
   ]
  },
  {
   "cell_type": "code",
   "execution_count": 40,
   "metadata": {},
   "outputs": [],
   "source": [
    "train, test = python_random_split(data, 0.75)"
   ]
  },
  {
   "cell_type": "markdown",
   "metadata": {},
   "source": [
    "### 3.2 Cornac Dataset\n",
    "To work with models implemented in Cornac, we need to construct an object from Dataset class.\n",
    "\n",
    "Dataset Class in Cornac serves as the main object that the models will interact with. In addition to data transformations, Dataset provides a bunch of useful iterators for looping through the data, as well as supporting different negative sampling techniques."
   ]
  },
  {
   "cell_type": "code",
   "execution_count": 41,
   "metadata": {},
   "outputs": [
    {
     "name": "stdout",
     "output_type": "stream",
     "text": [
      "Number of users: 1439\n",
      "Number of items: 10900\n"
     ]
    },
    {
     "name": "stderr",
     "output_type": "stream",
     "text": [
      "C:\\Users\\HP\\anaconda3\\envs\\metis\\lib\\site-packages\\cornac\\data\\dataset.py:361: UserWarning: 45784 duplicated observations are removed!\n",
      "  warnings.warn(\"%d duplicated observations are removed!\" % dup_count)\n"
     ]
    }
   ],
   "source": [
    "train_set = cornac.data.Dataset.from_uir(train.itertuples(index=False), seed=123)\n",
    "\n",
    "print('Number of users: {}'.format(train_set.num_users))\n",
    "print('Number of items: {}'.format(train_set.num_items))"
   ]
  },
  {
   "cell_type": "markdown",
   "metadata": {},
   "source": [
    "### 3.3 Train the BPR model\n",
    "The BPR has a few important parameters that we need to consider:\n",
    "\n",
    "k: controls the dimension of the latent space (i.e. the size of the vectors $w_u$ and $h_i$ ).\n",
    "max_iter: defines the number of iterations of the SGD procedure.\n",
    "learning_rate: controls the step size $\\alpha$ in the gradient update rules.\n",
    "lambda_reg: controls the L2-Regularization $\\lambda$ in the objective function.\n",
    "Note that different values of k and max_iter will affect the training time.\n",
    "\n",
    "We will here set k to 200, max_iter to 100, learning_rate to 0.01, and lambda_reg to 0.001. To train the model, we simply need to call the fit() method."
   ]
  },
  {
   "cell_type": "code",
   "execution_count": 64,
   "metadata": {},
   "outputs": [],
   "source": [
    "# Model parameters\n",
    "NUM_FACTORS = 40\n",
    "NUM_EPOCHS = 20\n",
    "\n",
    "bpr = cornac.models.BPR(\n",
    "    k=NUM_FACTORS,\n",
    "    max_iter=NUM_EPOCHS,\n",
    "    learning_rate=0.01,\n",
    "    lambda_reg=0.001,\n",
    "    verbose=True,\n",
    "    seed=123\n",
    ")"
   ]
  },
  {
   "cell_type": "code",
   "execution_count": 65,
   "metadata": {},
   "outputs": [
    {
     "data": {
      "application/vnd.jupyter.widget-view+json": {
       "model_id": "690ccc3c8f824fe2a51486121a1e7cc3",
       "version_major": 2,
       "version_minor": 0
      },
      "text/plain": [
       "HBox(children=(HTML(value=''), FloatProgress(value=0.0, max=20.0), HTML(value='')))"
      ]
     },
     "metadata": {},
     "output_type": "display_data"
    },
    {
     "name": "stdout",
     "output_type": "stream",
     "text": [
      "\n",
      "Optimization finished!\n",
      "Took 0.8659 seconds for training.\n"
     ]
    }
   ],
   "source": [
    "with Timer() as t:\n",
    "    bpr.fit(train_set)\n",
    "print(\"Took {} seconds for training.\".format(t))"
   ]
  },
  {
   "cell_type": "markdown",
   "metadata": {},
   "source": [
    "### 3.4 Prediction and Evaluation\n",
    "Now that our model is trained, we can produce the ranked lists for recommendation. Every recommender models in Cornac provide rate() and rank() methods for predicting item rated value as well as item ranked list for a given user. To make use of the current evaluation schemes, we will through predict() and predict_ranking() functions inside cornac_utils to produce the predictions.\n",
    "\n",
    "Note that BPR model is effectively designed for item ranking. Hence, we only measure the performance using ranking metrics."
   ]
  },
  {
   "cell_type": "code",
   "execution_count": 66,
   "metadata": {},
   "outputs": [],
   "source": [
    "import pandas as pd\n",
    "import numpy as np\n",
    "\n",
    "from reco_utils.common.constants import (\n",
    "    DEFAULT_USER_COL,\n",
    "    DEFAULT_ITEM_COL,\n",
    "    DEFAULT_PREDICTION_COL)"
   ]
  },
  {
   "cell_type": "code",
   "execution_count": 67,
   "metadata": {},
   "outputs": [],
   "source": [
    "def predict_ranking(\n",
    "    model,\n",
    "    data,\n",
    "    usercol=DEFAULT_USER_COL,\n",
    "    itemcol=DEFAULT_ITEM_COL,\n",
    "    predcol=DEFAULT_PREDICTION_COL,\n",
    "    remove_seen=False,\n",
    "):\n",
    "    \"\"\"Computes predictions of recommender model from Cornac on all users and items in data.\n",
    "    It can be used for computing ranking metrics like NDCG.\n",
    "    Args:\n",
    "        model (cornac.models.Recommender): a recommender model from Cornac\n",
    "        data (pd.DataFrame): the data from which to get the users and items\n",
    "        usercol (str): name of the user column\n",
    "        itemcol (str): name of the item column\n",
    "        remove_seen (bool): flag to remove (user, item) pairs seen in the training data\n",
    "    Returns:\n",
    "        pd.DataFrame: dataframe with usercol, itemcol, predcol\n",
    "    \"\"\"\n",
    "    users, items, preds = [], [], []\n",
    "    item = list(model.train_set.iid_map.keys())\n",
    "    \n",
    "    for uid, user_idx in model.train_set.uid_map.items():\n",
    "        user = [uid] * len(item)\n",
    "        users.extend(user)\n",
    "        items.extend(item)\n",
    "        preds.extend(model.score(user_idx).tolist())\n",
    "\n",
    "    all_predictions = pd.DataFrame(\n",
    "        data={usercol: users, itemcol: items, predcol: preds}\n",
    "    )\n",
    "\n",
    "    if remove_seen:\n",
    "        tempdf = pd.concat(\n",
    "            [\n",
    "                data[[usercol, itemcol]],\n",
    "                pd.DataFrame(\n",
    "                    data=np.ones(data.shape[0]), columns=[\"dummycol\"], index=data.index\n",
    "                ),\n",
    "            ],\n",
    "            axis=1,\n",
    "        )\n",
    "        print (tempdf)\n",
    "        print (all_predictions)\n",
    "        merged = pd.concat([tempdf, all_predictions], keys=['usercol', 'itemcol'], join=\"outer\")\n",
    "        \n",
    "        return merged[merged[\"dummycol\"].isnull()].drop(\"dummycol\", axis=1)\n",
    "    \n",
    "    else:\n",
    "        \n",
    "        return all_predictions"
   ]
  },
  {
   "cell_type": "code",
   "execution_count": 68,
   "metadata": {},
   "outputs": [
    {
     "name": "stdout",
     "output_type": "stream",
     "text": [
      "        user_id  game_id  dummycol\n",
      "51123      1830     4039       1.0\n",
      "51963      1869      313       1.0\n",
      "64132      2580     4257       1.0\n",
      "20623       665     3060       1.0\n",
      "13649       395     4313       1.0\n",
      "...         ...      ...       ...\n",
      "128106    11994      981       1.0\n",
      "103694     6406     4257       1.0\n",
      "860          25      492       1.0\n",
      "15795       473      629       1.0\n",
      "121958    10183      452       1.0\n",
      "\n",
      "[96603 rows x 3 columns]\n",
      "          user_id  game_id  prediction\n",
      "0             0.0     1830    0.395350\n",
      "1             0.0     1869    2.074868\n",
      "2             0.0     2580    0.376701\n",
      "3             0.0      665    2.320160\n",
      "4             0.0      395    2.200058\n",
      "...           ...      ...         ...\n",
      "15685095    373.0     4167   -0.226598\n",
      "15685096    373.0    12064   -0.239423\n",
      "15685097    373.0     7610   -0.250838\n",
      "15685098    373.0     9550   -0.293032\n",
      "15685099    373.0    11994   -0.270246\n",
      "\n",
      "[15685100 rows x 3 columns]\n",
      "Took 27.9403 seconds for prediction.\n"
     ]
    }
   ],
   "source": [
    "with Timer() as t:\n",
    "     all_predictions = predict_ranking(\n",
    "                            bpr,\n",
    "                            train,\n",
    "                            usercol='user_id',\n",
    "                            itemcol='game_id',\n",
    "                            remove_seen=True,\n",
    "                        )  \n",
    "print(\"Took {} seconds for prediction.\".format(t))"
   ]
  },
  {
   "cell_type": "code",
   "execution_count": 69,
   "metadata": {},
   "outputs": [
    {
     "data": {
      "text/html": [
       "<div>\n",
       "<style scoped>\n",
       "    .dataframe tbody tr th:only-of-type {\n",
       "        vertical-align: middle;\n",
       "    }\n",
       "\n",
       "    .dataframe tbody tr th {\n",
       "        vertical-align: top;\n",
       "    }\n",
       "\n",
       "    .dataframe thead th {\n",
       "        text-align: right;\n",
       "    }\n",
       "</style>\n",
       "<table border=\"1\" class=\"dataframe\">\n",
       "  <thead>\n",
       "    <tr style=\"text-align: right;\">\n",
       "      <th></th>\n",
       "      <th></th>\n",
       "      <th>user_id</th>\n",
       "      <th>game_id</th>\n",
       "      <th>prediction</th>\n",
       "    </tr>\n",
       "  </thead>\n",
       "  <tbody>\n",
       "    <tr>\n",
       "      <th rowspan=\"5\" valign=\"top\">itemcol</th>\n",
       "      <th>0</th>\n",
       "      <td>0.0</td>\n",
       "      <td>1830</td>\n",
       "      <td>0.395350</td>\n",
       "    </tr>\n",
       "    <tr>\n",
       "      <th>1</th>\n",
       "      <td>0.0</td>\n",
       "      <td>1869</td>\n",
       "      <td>2.074868</td>\n",
       "    </tr>\n",
       "    <tr>\n",
       "      <th>2</th>\n",
       "      <td>0.0</td>\n",
       "      <td>2580</td>\n",
       "      <td>0.376701</td>\n",
       "    </tr>\n",
       "    <tr>\n",
       "      <th>3</th>\n",
       "      <td>0.0</td>\n",
       "      <td>665</td>\n",
       "      <td>2.320160</td>\n",
       "    </tr>\n",
       "    <tr>\n",
       "      <th>4</th>\n",
       "      <td>0.0</td>\n",
       "      <td>395</td>\n",
       "      <td>2.200058</td>\n",
       "    </tr>\n",
       "  </tbody>\n",
       "</table>\n",
       "</div>"
      ],
      "text/plain": [
       "           user_id  game_id  prediction\n",
       "itemcol 0      0.0     1830    0.395350\n",
       "        1      0.0     1869    2.074868\n",
       "        2      0.0     2580    0.376701\n",
       "        3      0.0      665    2.320160\n",
       "        4      0.0      395    2.200058"
      ]
     },
     "execution_count": 69,
     "metadata": {},
     "output_type": "execute_result"
    }
   ],
   "source": [
    "all_predictions.head()"
   ]
  },
  {
   "cell_type": "code",
   "execution_count": 70,
   "metadata": {},
   "outputs": [
    {
     "name": "stdout",
     "output_type": "stream",
     "text": [
      "<class 'pandas.core.frame.DataFrame'>\n",
      "MultiIndex: 15685100 entries, ('itemcol', 0) to ('itemcol', 15685099)\n",
      "Data columns (total 3 columns):\n",
      " #   Column      Dtype  \n",
      "---  ------      -----  \n",
      " 0   user_id     float64\n",
      " 1   game_id     int64  \n",
      " 2   prediction  float64\n",
      "dtypes: float64(2), int64(1)\n",
      "memory usage: 1.2+ GB\n"
     ]
    }
   ],
   "source": [
    "all_predictions.info()"
   ]
  },
  {
   "cell_type": "code",
   "execution_count": 71,
   "metadata": {},
   "outputs": [
    {
     "name": "stdout",
     "output_type": "stream",
     "text": [
      "<class 'pandas.core.frame.DataFrame'>\n",
      "MultiIndex: 15685100 entries, ('itemcol', 0) to ('itemcol', 15685099)\n",
      "Data columns (total 3 columns):\n",
      " #   Column      Dtype  \n",
      "---  ------      -----  \n",
      " 0   user_id     int64  \n",
      " 1   game_id     int64  \n",
      " 2   prediction  float64\n",
      "dtypes: float64(1), int64(2)\n",
      "memory usage: 1.2+ GB\n"
     ]
    }
   ],
   "source": [
    "all_predictions['game_id'] = all_predictions['game_id'].astype(np.int64)\n",
    "all_predictions['user_id'] = all_predictions['user_id'].astype(np.int64)\n",
    "all_predictions.info()"
   ]
  },
  {
   "cell_type": "code",
   "execution_count": 72,
   "metadata": {},
   "outputs": [
    {
     "name": "stdout",
     "output_type": "stream",
     "text": [
      "<class 'pandas.core.frame.DataFrame'>\n",
      "Int64Index: 32201 entries, 31140 to 117047\n",
      "Data columns (total 3 columns):\n",
      " #   Column   Non-Null Count  Dtype  \n",
      "---  ------   --------------  -----  \n",
      " 0   hours    32201 non-null  float64\n",
      " 1   user_id  32201 non-null  int64  \n",
      " 2   game_id  32201 non-null  int64  \n",
      "dtypes: float64(1), int64(2)\n",
      "memory usage: 1006.3 KB\n"
     ]
    }
   ],
   "source": [
    "test.info()"
   ]
  },
  {
   "cell_type": "code",
   "execution_count": 74,
   "metadata": {},
   "outputs": [
    {
     "name": "stdout",
     "output_type": "stream",
     "text": [
      "MAP:\t0.000168\n",
      "NDCG:\t0.001418\n",
      "Precision@K:\t0.001075\n",
      "Recall@K:\t0.000352\n"
     ]
    }
   ],
   "source": [
    "k = 10\n",
    "eval_map = map_at_k(test, all_predictions, \n",
    "                    col_user='user_id',\n",
    "                    col_item='game_id', \n",
    "                    col_rating='hours', \n",
    "                    col_prediction='prediction', \n",
    "                    k=k)\n",
    "\n",
    "eval_ndcg = ndcg_at_k(test, all_predictions, col_user='user_id',\n",
    "                    col_item='game_id', \n",
    "                    col_rating='hours', col_prediction='prediction', k=k)\n",
    "\n",
    "\n",
    "eval_precision = precision_at_k(test, all_predictions, col_user='user_id',\n",
    "                    col_item='game_id', \n",
    "                    col_rating='hours', col_prediction='prediction', k=k)\n",
    "\n",
    "\n",
    "eval_recall = recall_at_k(test, all_predictions, col_user='user_id',\n",
    "                    col_item='game_id', \n",
    "                    col_rating='hours', col_prediction='prediction', k=k)\n",
    "\n",
    "\n",
    "print(\"MAP:\\t%f\" % eval_map,\n",
    "      \"NDCG:\\t%f\" % eval_ndcg,\n",
    "      \"Precision@K:\\t%f\" % eval_precision,\n",
    "      \"Recall@K:\\t%f\" % eval_recall, sep='\\n')"
   ]
  },
  {
   "cell_type": "code",
   "execution_count": null,
   "metadata": {},
   "outputs": [],
   "source": []
  },
  {
   "cell_type": "code",
   "execution_count": null,
   "metadata": {},
   "outputs": [],
   "source": []
  }
 ],
 "metadata": {
  "kernelspec": {
   "display_name": "Python [conda env:metis] *",
   "language": "python",
   "name": "conda-env-metis-py"
  },
  "language_info": {
   "codemirror_mode": {
    "name": "ipython",
    "version": 3
   },
   "file_extension": ".py",
   "mimetype": "text/x-python",
   "name": "python",
   "nbconvert_exporter": "python",
   "pygments_lexer": "ipython3",
   "version": "3.6.12"
  }
 },
 "nbformat": 4,
 "nbformat_minor": 4
}
