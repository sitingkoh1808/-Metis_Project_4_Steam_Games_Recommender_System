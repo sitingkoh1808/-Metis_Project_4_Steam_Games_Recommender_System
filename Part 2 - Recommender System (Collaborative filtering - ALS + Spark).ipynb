{
 "cells": [
  {
   "cell_type": "markdown",
   "metadata": {},
   "source": [
    "# Introduction\n",
    "## Collaborative filtering\n",
    "\n",
    "https://spark.apache.org/docs/latest/ml-collaborative-filtering.html\n",
    "\n",
    "Collaborative filtering is commonly used for recommender systems. These techniques aim to fill in the missing entries of a user-item association matrix. spark.ml currently supports model-based collaborative filtering, in which users and products are described by a small set of latent factors that can be used to predict missing entries. spark.ml uses the alternating least squares (ALS) algorithm to learn these latent factors. The implementation in spark.ml has the following parameters:\n",
    "\n",
    "numBlocks is the number of blocks the users and items will be partitioned into in order to parallelize computation (defaults to 10).\n",
    "\n",
    "rank is the number of latent factors in the model (defaults to 10).\n",
    "\n",
    "maxIter is the maximum number of iterations to run (defaults to 10).\n",
    "\n",
    "regParam specifies the regularization parameter in ALS (defaults to 1.0).\n",
    "\n",
    "implicitPrefs specifies whether to use the explicit feedback ALS variant or one adapted for implicit feedback data (defaults to false which means using explicit feedback).\n",
    "\n",
    "alpha is a parameter applicable to the implicit feedback variant of ALS that governs the baseline confidence in preference observations (defaults to 1.0).\n",
    "\n",
    "nonnegative specifies whether or not to use nonnegative constraints for least squares (defaults to false)."
   ]
  },
  {
   "cell_type": "markdown",
   "metadata": {},
   "source": [
    "### Explicit vs. implicit feedback\n",
    "\n",
    "The standard approach to matrix factorization-based collaborative filtering treats the entries in the user-item matrix as explicit preferences given by the user to the item, for example, users giving ratings to movies.\n",
    "\n",
    "It is common in many real-world use cases to only have access to implicit feedback (e.g. views, clicks, purchases, likes, shares etc.). The approach used in spark.ml to deal with such data is taken from Collaborative Filtering for Implicit Feedback Datasets. Essentially, instead of trying to model the matrix of ratings directly, this approach treats the data as numbers representing the strength in observations of user actions (such as the number of clicks, or the cumulative duration someone spent viewing a movie). Those numbers are then related to the level of confidence in observed user preferences, rather than explicit ratings given to items. The model then tries to find latent factors that can be used to predict the expected preference of a user for an item."
   ]
  },
  {
   "cell_type": "markdown",
   "metadata": {},
   "source": [
    "### Scaling of the regularization parameter\n",
    "\n",
    "We scale the regularization parameter regParam in solving each least squares problem by the number of ratings the user generated in updating user factors, or the number of ratings the product received in updating product factors. This approach is named “ALS-WR” and discussed in the paper “Large-Scale Parallel Collaborative Filtering for the Netflix Prize”. It makes regParam less dependent on the scale of the dataset, so we can apply the best parameter learned from a sampled subset to the full dataset and expect similar performance.\n"
   ]
  },
  {
   "cell_type": "markdown",
   "metadata": {},
   "source": [
    "### Cold-start strategy\n",
    "\n",
    "When making predictions using an ALSModel, it is common to encounter users and/or items in the test dataset that were not present during training the model. This typically occurs in two scenarios:\n",
    "\n",
    "In production, for new users or items that have no rating history and on which the model has not been trained (this is the “cold start problem”).\n",
    "During cross-validation, the data is split between training and evaluation sets. When using simple random splits as in Spark’s CrossValidator or TrainValidationSplit, it is actually very common to encounter users and/or items in the evaluation set that are not in the training set\n",
    "By default, Spark assigns NaN predictions during ALSModel.transform when a user and/or item factor is not present in the model. This can be useful in a production system, since it indicates a new user or item, and so the system can make a decision on some fallback to use as the prediction.\n",
    "\n",
    "However, this is undesirable during cross-validation, since any NaN predicted values will result in NaN results for the evaluation metric (for example when using RegressionEvaluator). This makes model selection impossible.\n",
    "\n",
    "Spark allows users to set the coldStartStrategy parameter to “drop” in order to drop any rows in the DataFrame of predictions that contain NaN values. The evaluation metric will then be computed over the non-NaN data and will be valid. Usage of this parameter is illustrated in the example below."
   ]
  },
  {
   "cell_type": "code",
   "execution_count": 1,
   "metadata": {},
   "outputs": [],
   "source": [
    "import sys\n",
    "import pandas as pd\n",
    "import numpy as np\n",
    "import scipy.sparse as sparse\n",
    "from scipy.sparse.linalg import spsolve\n",
    "import random\n",
    "\n",
    "from sklearn.preprocessing import MinMaxScaler\n",
    "\n",
    "import implicit"
   ]
  },
  {
   "cell_type": "code",
   "execution_count": 2,
   "metadata": {},
   "outputs": [
    {
     "data": {
      "text/html": [
       "<div>\n",
       "<style scoped>\n",
       "    .dataframe tbody tr th:only-of-type {\n",
       "        vertical-align: middle;\n",
       "    }\n",
       "\n",
       "    .dataframe tbody tr th {\n",
       "        vertical-align: top;\n",
       "    }\n",
       "\n",
       "    .dataframe thead th {\n",
       "        text-align: right;\n",
       "    }\n",
       "</style>\n",
       "<table border=\"1\" class=\"dataframe\">\n",
       "  <thead>\n",
       "    <tr style=\"text-align: right;\">\n",
       "      <th></th>\n",
       "      <th>user</th>\n",
       "      <th>game</th>\n",
       "      <th>hours</th>\n",
       "    </tr>\n",
       "  </thead>\n",
       "  <tbody>\n",
       "    <tr>\n",
       "      <th>0</th>\n",
       "      <td>5250</td>\n",
       "      <td>Alien Swarm</td>\n",
       "      <td>4.9</td>\n",
       "    </tr>\n",
       "    <tr>\n",
       "      <th>1</th>\n",
       "      <td>5250</td>\n",
       "      <td>Cities Skylines</td>\n",
       "      <td>144.0</td>\n",
       "    </tr>\n",
       "    <tr>\n",
       "      <th>2</th>\n",
       "      <td>5250</td>\n",
       "      <td>Counter-Strike</td>\n",
       "      <td>0.0</td>\n",
       "    </tr>\n",
       "    <tr>\n",
       "      <th>3</th>\n",
       "      <td>5250</td>\n",
       "      <td>Counter-Strike Source</td>\n",
       "      <td>0.0</td>\n",
       "    </tr>\n",
       "    <tr>\n",
       "      <th>4</th>\n",
       "      <td>5250</td>\n",
       "      <td>Day of Defeat</td>\n",
       "      <td>0.0</td>\n",
       "    </tr>\n",
       "    <tr>\n",
       "      <th>...</th>\n",
       "      <td>...</td>\n",
       "      <td>...</td>\n",
       "      <td>...</td>\n",
       "    </tr>\n",
       "    <tr>\n",
       "      <th>128799</th>\n",
       "      <td>309626088</td>\n",
       "      <td>Age of Empires II HD Edition</td>\n",
       "      <td>6.7</td>\n",
       "    </tr>\n",
       "    <tr>\n",
       "      <th>128800</th>\n",
       "      <td>309812026</td>\n",
       "      <td>Counter-Strike Nexon Zombies</td>\n",
       "      <td>0.0</td>\n",
       "    </tr>\n",
       "    <tr>\n",
       "      <th>128801</th>\n",
       "      <td>309812026</td>\n",
       "      <td>Robocraft</td>\n",
       "      <td>0.0</td>\n",
       "    </tr>\n",
       "    <tr>\n",
       "      <th>128802</th>\n",
       "      <td>309824202</td>\n",
       "      <td>Dota 2</td>\n",
       "      <td>0.7</td>\n",
       "    </tr>\n",
       "    <tr>\n",
       "      <th>128803</th>\n",
       "      <td>309903146</td>\n",
       "      <td>Dota 2</td>\n",
       "      <td>0.2</td>\n",
       "    </tr>\n",
       "  </tbody>\n",
       "</table>\n",
       "<p>128804 rows × 3 columns</p>\n",
       "</div>"
      ],
      "text/plain": [
       "             user                          game  hours\n",
       "0            5250                   Alien Swarm    4.9\n",
       "1            5250               Cities Skylines  144.0\n",
       "2            5250                Counter-Strike    0.0\n",
       "3            5250         Counter-Strike Source    0.0\n",
       "4            5250                 Day of Defeat    0.0\n",
       "...           ...                           ...    ...\n",
       "128799  309626088  Age of Empires II HD Edition    6.7\n",
       "128800  309812026  Counter-Strike Nexon Zombies    0.0\n",
       "128801  309812026                     Robocraft    0.0\n",
       "128802  309824202                        Dota 2    0.7\n",
       "128803  309903146                        Dota 2    0.2\n",
       "\n",
       "[128804 rows x 3 columns]"
      ]
     },
     "execution_count": 2,
     "metadata": {},
     "output_type": "execute_result"
    }
   ],
   "source": [
    "# Load the data \n",
    "df = pd.read_csv('steam-200k-cleaned.csv')\n",
    "df = df.drop(['purchase','play'], axis=1)\n",
    "df"
   ]
  },
  {
   "cell_type": "code",
   "execution_count": 3,
   "metadata": {},
   "outputs": [],
   "source": [
    "# Drop NaN columns\n",
    "data = df.dropna()\n",
    "data = df.copy()"
   ]
  },
  {
   "cell_type": "code",
   "execution_count": 4,
   "metadata": {},
   "outputs": [],
   "source": [
    "# Create a numeric user_id and artist_id column\n",
    "data['user'] = data['user'].astype(\"category\")\n",
    "data['game'] = data['game'].astype(\"category\")\n",
    "data['user_id'] = data['user'].cat.codes\n",
    "data['game_id'] = data['game'].cat.codes"
   ]
  },
  {
   "cell_type": "code",
   "execution_count": 5,
   "metadata": {},
   "outputs": [
    {
     "data": {
      "text/html": [
       "<div>\n",
       "<style scoped>\n",
       "    .dataframe tbody tr th:only-of-type {\n",
       "        vertical-align: middle;\n",
       "    }\n",
       "\n",
       "    .dataframe tbody tr th {\n",
       "        vertical-align: top;\n",
       "    }\n",
       "\n",
       "    .dataframe thead th {\n",
       "        text-align: right;\n",
       "    }\n",
       "</style>\n",
       "<table border=\"1\" class=\"dataframe\">\n",
       "  <thead>\n",
       "    <tr style=\"text-align: right;\">\n",
       "      <th></th>\n",
       "      <th>user</th>\n",
       "      <th>game</th>\n",
       "      <th>hours</th>\n",
       "      <th>user_id</th>\n",
       "      <th>game_id</th>\n",
       "    </tr>\n",
       "  </thead>\n",
       "  <tbody>\n",
       "    <tr>\n",
       "      <th>0</th>\n",
       "      <td>5250</td>\n",
       "      <td>Alien Swarm</td>\n",
       "      <td>4.9</td>\n",
       "      <td>0</td>\n",
       "      <td>227</td>\n",
       "    </tr>\n",
       "    <tr>\n",
       "      <th>1</th>\n",
       "      <td>5250</td>\n",
       "      <td>Cities Skylines</td>\n",
       "      <td>144.0</td>\n",
       "      <td>0</td>\n",
       "      <td>852</td>\n",
       "    </tr>\n",
       "    <tr>\n",
       "      <th>2</th>\n",
       "      <td>5250</td>\n",
       "      <td>Counter-Strike</td>\n",
       "      <td>0.0</td>\n",
       "      <td>0</td>\n",
       "      <td>978</td>\n",
       "    </tr>\n",
       "    <tr>\n",
       "      <th>3</th>\n",
       "      <td>5250</td>\n",
       "      <td>Counter-Strike Source</td>\n",
       "      <td>0.0</td>\n",
       "      <td>0</td>\n",
       "      <td>984</td>\n",
       "    </tr>\n",
       "    <tr>\n",
       "      <th>4</th>\n",
       "      <td>5250</td>\n",
       "      <td>Day of Defeat</td>\n",
       "      <td>0.0</td>\n",
       "      <td>0</td>\n",
       "      <td>1131</td>\n",
       "    </tr>\n",
       "    <tr>\n",
       "      <th>...</th>\n",
       "      <td>...</td>\n",
       "      <td>...</td>\n",
       "      <td>...</td>\n",
       "      <td>...</td>\n",
       "      <td>...</td>\n",
       "    </tr>\n",
       "    <tr>\n",
       "      <th>128799</th>\n",
       "      <td>309626088</td>\n",
       "      <td>Age of Empires II HD Edition</td>\n",
       "      <td>6.7</td>\n",
       "      <td>12389</td>\n",
       "      <td>174</td>\n",
       "    </tr>\n",
       "    <tr>\n",
       "      <th>128800</th>\n",
       "      <td>309812026</td>\n",
       "      <td>Counter-Strike Nexon Zombies</td>\n",
       "      <td>0.0</td>\n",
       "      <td>12390</td>\n",
       "      <td>982</td>\n",
       "    </tr>\n",
       "    <tr>\n",
       "      <th>128801</th>\n",
       "      <td>309812026</td>\n",
       "      <td>Robocraft</td>\n",
       "      <td>0.0</td>\n",
       "      <td>12390</td>\n",
       "      <td>3562</td>\n",
       "    </tr>\n",
       "    <tr>\n",
       "      <th>128802</th>\n",
       "      <td>309824202</td>\n",
       "      <td>Dota 2</td>\n",
       "      <td>0.7</td>\n",
       "      <td>12391</td>\n",
       "      <td>1336</td>\n",
       "    </tr>\n",
       "    <tr>\n",
       "      <th>128803</th>\n",
       "      <td>309903146</td>\n",
       "      <td>Dota 2</td>\n",
       "      <td>0.2</td>\n",
       "      <td>12392</td>\n",
       "      <td>1336</td>\n",
       "    </tr>\n",
       "  </tbody>\n",
       "</table>\n",
       "<p>128804 rows × 5 columns</p>\n",
       "</div>"
      ],
      "text/plain": [
       "             user                          game  hours  user_id  game_id\n",
       "0            5250                   Alien Swarm    4.9        0      227\n",
       "1            5250               Cities Skylines  144.0        0      852\n",
       "2            5250                Counter-Strike    0.0        0      978\n",
       "3            5250         Counter-Strike Source    0.0        0      984\n",
       "4            5250                 Day of Defeat    0.0        0     1131\n",
       "...           ...                           ...    ...      ...      ...\n",
       "128799  309626088  Age of Empires II HD Edition    6.7    12389      174\n",
       "128800  309812026  Counter-Strike Nexon Zombies    0.0    12390      982\n",
       "128801  309812026                     Robocraft    0.0    12390     3562\n",
       "128802  309824202                        Dota 2    0.7    12391     1336\n",
       "128803  309903146                        Dota 2    0.2    12392     1336\n",
       "\n",
       "[128804 rows x 5 columns]"
      ]
     },
     "execution_count": 5,
     "metadata": {},
     "output_type": "execute_result"
    }
   ],
   "source": [
    "data"
   ]
  },
  {
   "cell_type": "code",
   "execution_count": 6,
   "metadata": {},
   "outputs": [],
   "source": [
    "import os\n",
    "os.environ['SPARK_HOME'] = 'C:\\Spark\\spark-3.0.1-bin-hadoop2.7'\n",
    "os.environ['HADOOP_HOME'] = 'C:\\Spark\\spark-3.0.1-bin-hadoop2.7'\n",
    "# os.environ['JAVA_HOME'] = 'C:\\Program Files\\Java\\jdk1.8.0_271'\n",
    "# print(os.environ['SPARK_HOME'])\n",
    "# print(os.environ['HADOOP_HOME'])\n",
    "# print(os.environ['JAVA_HOME'])\n",
    "# print(os.environ['PATH'])"
   ]
  },
  {
   "cell_type": "code",
   "execution_count": 7,
   "metadata": {},
   "outputs": [
    {
     "data": {
      "text/plain": [
       "'C:\\\\Spark\\\\spark-3.0.1-bin-hadoop2.7'"
      ]
     },
     "execution_count": 7,
     "metadata": {},
     "output_type": "execute_result"
    }
   ],
   "source": [
    "import findspark\n",
    "findspark.init()\n",
    "findspark.find()\n",
    "import pyspark\n",
    "findspark.find()"
   ]
  },
  {
   "cell_type": "code",
   "execution_count": 8,
   "metadata": {},
   "outputs": [],
   "source": [
    "from pyspark.ml.evaluation import RegressionEvaluator\n",
    "from pyspark.ml.recommendation import ALS\n",
    "from pyspark.sql import Row\n",
    "\n",
    "from pyspark.context import SparkContext\n",
    "from pyspark.sql.session import SparkSession\n",
    "sc = SparkContext('local')\n",
    "spark = SparkSession(sc)\n",
    "\n",
    "data = spark.createDataFrame(data)"
   ]
  },
  {
   "cell_type": "code",
   "execution_count": 9,
   "metadata": {},
   "outputs": [],
   "source": [
    "(train, test) = data.randomSplit([0.8, 0.2])"
   ]
  },
  {
   "cell_type": "code",
   "execution_count": 10,
   "metadata": {},
   "outputs": [],
   "source": [
    "# Build the recommendation model using ALS on the training data\n",
    "# Note we set cold start strategy to 'drop' to ensure we don't get NaN evaluation metrics\n",
    "# If the rating matrix is derived from another source of information (i.e. it is inferred from other signals),\n",
    "# you can set implicitPrefs to True to get better results:\n",
    "\n",
    "als = ALS(seed = 123, implicitPrefs=True, nonnegative = True,\n",
    "          userCol=\"user_id\", itemCol=\"game_id\", ratingCol=\"hours\",coldStartStrategy=\"drop\")"
   ]
  },
  {
   "cell_type": "code",
   "execution_count": 12,
   "metadata": {},
   "outputs": [],
   "source": [
    "# Hyperparameter tuning and cross validation\n",
    "\n",
    "from pyspark.ml.tuning import ParamGridBuilder, CrossValidator\n",
    "from pyspark.ml.evaluation import RegressionEvaluator\n",
    "\n",
    "# Add hyperparameters and their respective values to param_grid\n",
    "\n",
    "param_grid = ParamGridBuilder() \\\n",
    "            .addGrid(als.rank, [10, 20, 30, 40, 50, 60, 70, 80, 90, 100]) \\\n",
    "            .addGrid(als.regParam, [.01, .05, .1, .15]) \\\n",
    "            .addGrid(als.maxIter, [5, 10, 15, 20])  \\\n",
    "            .build()"
   ]
  },
  {
   "cell_type": "code",
   "execution_count": 13,
   "metadata": {},
   "outputs": [
    {
     "name": "stdout",
     "output_type": "stream",
     "text": [
      "Num models to be tested:  160\n"
     ]
    }
   ],
   "source": [
    "# Define evaluator as RMSE and print length of evaluator\n",
    "\n",
    "evaluator = RegressionEvaluator(\n",
    "           metricName=\"rmse\", \n",
    "           labelCol=\"hours\", \n",
    "           predictionCol=\"prediction\") \n",
    "\n",
    "print (\"Num models to be tested: \", len(param_grid))"
   ]
  },
  {
   "cell_type": "code",
   "execution_count": 14,
   "metadata": {},
   "outputs": [],
   "source": [
    "# Build cross validation using CrossValidator\n",
    "\n",
    "cv = CrossValidator(estimator=als, estimatorParamMaps=param_grid, evaluator=evaluator, numFolds=3)"
   ]
  },
  {
   "cell_type": "code",
   "execution_count": 16,
   "metadata": {},
   "outputs": [
    {
     "name": "stdout",
     "output_type": "stream",
     "text": [
      "161.51516045926317\n"
     ]
    }
   ],
   "source": [
    "#Fit cross validator to the 'train' dataset\n",
    "model = cv.fit(train)\n",
    "\n",
    "#Extract best model from the cv model above\n",
    "best_model = model.bestModel\n",
    "\n",
    "# View the predictions\n",
    "test_predictions = best_model.transform(test)\n",
    "RMSE = evaluator.evaluate(test_predictions)\n",
    "print(RMSE)"
   ]
  },
  {
   "cell_type": "code",
   "execution_count": 17,
   "metadata": {},
   "outputs": [
    {
     "name": "stdout",
     "output_type": "stream",
     "text": [
      "**Best Model**\n",
      "  Rank: 10\n",
      "  MaxIter: 20\n",
      "  RegParam: 0.01\n"
     ]
    }
   ],
   "source": [
    "print(\"**Best Model**\")\n",
    "\n",
    "# Print \"Rank\"\n",
    "print(\"  Rank:\", best_model._java_obj.parent().getRank())\n",
    "\n",
    "# Print \"MaxIter\"\n",
    "print(\"  MaxIter:\", best_model._java_obj.parent().getMaxIter())\n",
    "\n",
    "# Print \"RegParam\"\n",
    "print(\"  RegParam:\", best_model._java_obj.parent().getRegParam())"
   ]
  },
  {
   "cell_type": "code",
   "execution_count": 18,
   "metadata": {},
   "outputs": [
    {
     "name": "stdout",
     "output_type": "stream",
     "text": [
      "+---------+------------------+-----+-------+-------+------------+\n",
      "|     user|              game|hours|user_id|game_id|  prediction|\n",
      "+---------+------------------+-----+-------+-------+------------+\n",
      "|174276289|    Battle Nations|  0.3|   6706|    471|         0.0|\n",
      "|108183518|    Battle Nations|  0.0|   3573|    471|         0.0|\n",
      "| 72978546|    Battle Nations|  0.0|   2081|    471| 0.017364305|\n",
      "|166669789|    Battle Nations|  0.4|   6297|    471|0.0028338232|\n",
      "| 87694960|       Bejeweled 3|  0.0|   2659|    496|  0.14125273|\n",
      "| 59825286|       Bejeweled 3|  1.7|   1621|    496| 0.094944015|\n",
      "| 88035166|       Bejeweled 3|  0.0|   2675|    496|  0.10140009|\n",
      "|117531196|       Bejeweled 3|  0.0|   3978|    496|  0.20194621|\n",
      "| 59332369|       Bejeweled 3|  0.0|   1605|    496| 0.036563497|\n",
      "|116515230|       Bejeweled 3|  0.0|   3934|    496|         0.0|\n",
      "| 59662830|       Bejeweled 3|  0.0|   1614|    496|  0.12550147|\n",
      "| 22301321|       Bejeweled 3|  1.7|    427|    496|  0.24820733|\n",
      "| 83090686|       Bejeweled 3| 67.0|   2465|    496|  0.15730633|\n",
      "| 38465050|Evochron Mercenary|  4.8|    924|   1580|0.0074424436|\n",
      "| 14465359|Evochron Mercenary|  0.4|    274|   1580|  0.08462657|\n",
      "| 91293844|        F.E.A.R. 3|  0.0|   2811|   1591|    0.087637|\n",
      "| 57770056|        F.E.A.R. 3|  0.0|   1525|   1591|  0.12234932|\n",
      "| 98624963|        F.E.A.R. 3|  4.1|   3152|   1591|  0.35721916|\n",
      "|   561758|        F.E.A.R. 3| 12.3|     12|   1591|  0.45432645|\n",
      "| 34281672|        F.E.A.R. 3|  0.0|    797|   1591|  0.42346373|\n",
      "+---------+------------------+-----+-------+-------+------------+\n",
      "only showing top 20 rows\n",
      "\n"
     ]
    }
   ],
   "source": [
    "test_predictions.cache().show()"
   ]
  },
  {
   "cell_type": "code",
   "execution_count": 19,
   "metadata": {},
   "outputs": [
    {
     "name": "stdout",
     "output_type": "stream",
     "text": [
      "+-------+------------------------------------------------------------------------------------------------------------------------------------------------------------------------------------------------------------------+\n",
      "|user_id|recommendations                                                                                                                                                                                                   |\n",
      "+-------+------------------------------------------------------------------------------------------------------------------------------------------------------------------------------------------------------------------+\n",
      "|1580   |[[3825, 1.4440615], [4885, 0.9810278], [329, 0.9517418], [3570, 0.9429007], [4314, 0.9401218], [2366, 0.9400289], [1552, 0.9229098], [3223, 0.91871667], [326, 0.908479], [1133, 0.8773182]]                      |\n",
      "|5300   |[[1336, 0.66333973], [4257, 0.59990484], [1762, 0.27640787], [1765, 0.23461501], [1761, 0.23296341], [1760, 0.2238638], [1759, 0.2136812], [1763, 0.1924835], [978, 0.15457459], [981, 0.15109475]]               |\n",
      "|6620   |[[4364, 1.0760319], [3223, 1.040912], [4276, 0.98934954], [3825, 0.97838604], [1894, 0.9373579], [3065, 0.9090596], [2475, 0.9053724], [2070, 0.899434], [1978, 0.89664257], [981, 0.8843402]]                    |\n",
      "|7340   |[[1336, 0.4174165], [4257, 0.37749913], [1762, 0.17393382], [1765, 0.14763503], [1761, 0.14659575], [1760, 0.14086966], [1759, 0.13446212], [1763, 0.121123135], [978, 0.09726839], [981, 0.09507865]]            |\n",
      "|7880   |[[737, 0.66660833], [736, 0.64131284], [741, 0.6197837], [727, 0.611168], [740, 0.5825296], [731, 0.58220524], [726, 0.5618245], [735, 0.48591718], [730, 0.3995736], [732, 0.37065595]]                          |\n",
      "|9900   |[[1336, 0.4322288], [4257, 0.39089495], [1762, 0.18010597], [1765, 0.15287396], [1761, 0.15179779], [1760, 0.14586852], [1759, 0.13923359], [1763, 0.12542127], [978, 0.100720026], [981, 0.09845258]]            |\n",
      "|471    |[[737, 0.048773002], [736, 0.04692182], [741, 0.04533744], [727, 0.0447087], [740, 0.042630926], [731, 0.042569295], [726, 0.041114062], [735, 0.035560593], [730, 0.029237634], [732, 0.027122427]]              |\n",
      "|1591   |[[737, 0.98453945], [736, 0.94717115], [741, 0.91518855], [727, 0.90249676], [740, 0.8605545], [731, 0.85931045], [726, 0.8299349], [735, 0.7178317], [730, 0.5901954], [732, 0.5474976]]                         |\n",
      "|4101   |[[1336, 0.5379568], [4257, 0.48651218], [1762, 0.2241619], [1765, 0.19026862], [1761, 0.18892922], [1760, 0.18154958], [1759, 0.17329167], [1763, 0.1561007], [978, 0.12535726], [981, 0.12253518]]               |\n",
      "|11141  |[[0, 0.0], [10, 0.0], [20, 0.0], [30, 0.0], [50, 0.0], [60, 0.0], [70, 0.0], [80, 0.0], [90, 0.0], [100, 0.0]]                                                                                                    |\n",
      "|1342   |[[3825, 0.059843853], [1552, 0.040232897], [2049, 0.04005572], [174, 0.03770154], [329, 0.03670585], [326, 0.036285818], [4885, 0.036078837], [3570, 0.034752592], [1133, 0.03457979], [1132, 0.03187555]]        |\n",
      "|2122   |[[737, 1.0554007], [736, 1.0154245], [741, 0.9829357], [727, 0.9690109], [731, 0.9266902], [740, 0.9218706], [726, 0.88907385], [735, 0.76792777], [730, 0.6321913], [732, 0.5863071]]                            |\n",
      "|2142   |[[4760, 0.008525218], [2684, 0.008495298], [929, 0.008146927], [3355, 0.0076835947], [928, 0.007681471], [3854, 0.007524966], [2683, 0.007428411], [4915, 0.007357059], [1507, 0.0072702146], [1559, 0.007237551]]|\n",
      "|7982   |[[1336, 0.8431052], [4257, 0.7624793], [1762, 0.3513145], [1765, 0.29819578], [1761, 0.2960966], [1760, 0.284531], [1759, 0.2715889], [1763, 0.24464661], [978, 0.19646446], [981, 0.19204159]]                   |\n",
      "|9852   |[[0, 0.0], [10, 0.0], [20, 0.0], [30, 0.0], [50, 0.0], [60, 0.0], [70, 0.0], [80, 0.0], [90, 0.0], [100, 0.0]]                                                                                                    |\n",
      "|10362  |[[1336, 0.983487], [4257, 0.88943654], [1762, 0.40981045], [1765, 0.34784713], [1761, 0.34539843], [1760, 0.33190706], [1759, 0.31681004], [1763, 0.2853817], [978, 0.22917683], [981, 0.22401755]]               |\n",
      "|463    |[[0, 0.0], [10, 0.0], [20, 0.0], [30, 0.0], [50, 0.0], [60, 0.0], [70, 0.0], [80, 0.0], [90, 0.0], [100, 0.0]]                                                                                                    |\n",
      "|833    |[[0, 0.0], [10, 0.0], [20, 0.0], [30, 0.0], [50, 0.0], [60, 0.0], [70, 0.0], [80, 0.0], [90, 0.0], [100, 0.0]]                                                                                                    |\n",
      "|5803   |[[1336, 0.36794862], [4257, 0.33276182], [1762, 0.15332098], [1765, 0.13013886], [1761, 0.12922274], [1760, 0.12417526], [1759, 0.11852706], [1763, 0.10676888], [978, 0.08574115], [981, 0.08381091]]            |\n",
      "|7253   |[[981, 0.1506474], [978, 0.14525709], [4788, 0.13824257], [984, 0.1321635], [2475, 0.11894371], [1336, 0.11360582], [1894, 0.10239275], [979, 0.059095323], [2807, 0.058800787], [3065, 0.05529011]]              |\n",
      "+-------+------------------------------------------------------------------------------------------------------------------------------------------------------------------------------------------------------------------+\n",
      "only showing top 20 rows\n",
      "\n"
     ]
    }
   ],
   "source": [
    "# Generate top 10 game recommendations for each user\n",
    "\n",
    "userRecs = best_model.recommendForAllUsers(10)\n",
    "userRecs.show(truncate = False)"
   ]
  },
  {
   "cell_type": "code",
   "execution_count": 20,
   "metadata": {},
   "outputs": [
    {
     "name": "stdout",
     "output_type": "stream",
     "text": [
      "+-------+--------------------------------------------------------------------------------------------------------------------------------------------------------------------------------------------------------------------------+\n",
      "|game_id|recommendations                                                                                                                                                                                                           |\n",
      "+-------+--------------------------------------------------------------------------------------------------------------------------------------------------------------------------------------------------------------------------+\n",
      "|1580   |[[1729, 0.13320497], [728, 0.12741907], [2155, 0.11961811], [1191, 0.11785227], [473, 0.10555494], [191, 0.10539895], [4162, 0.104263425], [2860, 0.1034668], [1107, 0.102071606], [1187, 0.10193567]]                    |\n",
      "|4900   |[[728, 1.5214993], [2155, 1.262293], [1895, 1.2613652], [1729, 1.1893626], [3445, 1.1644725], [2157, 1.1269958], [1187, 1.1194804], [1348, 1.0278375], [346, 1.0239537], [1720, 1.0227922]]                               |\n",
      "|471    |[[4413, 1.0234611], [210, 0.917598], [784, 0.9159551], [1360, 0.8908341], [3685, 0.88454103], [1186, 0.88034487], [1389, 0.87548214], [7442, 0.870213], [1327, 0.8686661], [1531, 0.86476785]]                            |\n",
      "|1591   |[[4413, 0.74672806], [1966, 0.7105101], [1625, 0.7063705], [7442, 0.7057136], [1134, 0.7044399], [210, 0.7019988], [1389, 0.6859095], [1306, 0.6849634], [784, 0.6711412], [313, 0.64915645]]                             |\n",
      "|4101   |[[0, 0.0], [10, 0.0], [20, 0.0], [30, 0.0], [40, 0.0], [50, 0.0], [60, 0.0], [70, 0.0], [80, 0.0], [90, 0.0]]                                                                                                             |\n",
      "|1342   |[[4027, 0.021490933], [6219, 0.016757457], [4322, 0.015726427], [1749, 0.015024335], [6141, 0.0143942945], [1877, 0.014036265], [4258, 0.013880683], [32, 0.013430044], [2083, 0.013164882], [2983, 0.012594665]]         |\n",
      "|2122   |[[0, 0.0], [10, 0.0], [20, 0.0], [30, 0.0], [40, 0.0], [50, 0.0], [60, 0.0], [70, 0.0], [80, 0.0], [90, 0.0]]                                                                                                             |\n",
      "|2142   |[[1764, 1.5674479], [1889, 1.3890029], [4739, 1.3324287], [4688, 1.3197191], [7136, 1.2995508], [5086, 1.2564], [6744, 1.2329704], [9138, 1.2100458], [8166, 1.1843826], [6043, 1.1769203]]                               |\n",
      "|463    |[[1134, 0.0019846132], [2675, 0.0017184146], [313, 0.0015032091], [1966, 0.0013827968], [1625, 0.0013716955], [1306, 0.0013177824], [7442, 0.0012683508], [3182, 0.0012517266], [182, 0.0011996706], [3947, 0.0011975727]]|\n",
      "|833    |[[4027, 0.6263225], [6219, 0.4883721], [32, 0.3913994], [2983, 0.3670535], [6735, 0.3444961], [4322, 0.34138736], [7005, 0.33524135], [79, 0.3334659], [823, 0.32918942], [4061, 0.31836453]]                             |\n",
      "|3794   |[[728, 0.28144863], [1729, 0.22919823], [2155, 0.2225899], [3445, 0.20714231], [1895, 0.20187238], [1191, 0.19991899], [346, 0.19881222], [2157, 0.19801463], [1187, 0.19065632], [1078, 0.19033606]]                     |\n",
      "|1645   |[[1048, 0.026669368], [6297, 0.022587162], [2028, 0.022500712], [8111, 0.02134572], [774, 0.021038314], [775, 0.020940358], [50, 0.019827768], [32, 0.019739352], [6115, 0.019648638], [4604, 0.019014971]]               |\n",
      "|3175   |[[0, 0.0], [10, 0.0], [20, 0.0], [30, 0.0], [40, 0.0], [50, 0.0], [60, 0.0], [70, 0.0], [80, 0.0], [90, 0.0]]                                                                                                             |\n",
      "|496    |[[1048, 0.5236252], [210, 0.34829745], [809, 0.3249855], [7442, 0.3212648], [532, 0.32125422], [2028, 0.31490523], [478, 0.3120783], [775, 0.311851], [6325, 0.30908018], [4908, 0.30875397]]                             |\n",
      "|2366   |[[4027, 1.4632349], [191, 1.2282455], [4162, 1.213738], [211, 1.1773789], [6219, 1.1415212], [4322, 1.133826], [395, 1.1322937], [337, 1.1291763], [1235, 1.1223171], [1305, 1.0988355]]                                  |\n",
      "|2866   |[[1729, 0.033333223], [1191, 0.029638771], [191, 0.028169874], [211, 0.027510274], [473, 0.027123392], [4162, 0.027084745], [532, 0.02704718], [1390, 0.026799077], [2155, 0.02660942], [2860, 0.026383774]]              |\n",
      "|3997   |[[277, 1.3138258], [1048, 1.2959316], [50, 1.2014883], [6297, 1.1783668], [2028, 1.0693104], [685, 1.0082245], [4377, 0.98960865], [4604, 0.9593033], [3896, 0.9435182], [2720, 0.9345008]]                               |\n",
      "|148    |[[0, 0.0], [10, 0.0], [20, 0.0], [30, 0.0], [40, 0.0], [50, 0.0], [60, 0.0], [70, 0.0], [80, 0.0], [90, 0.0]]                                                                                                             |\n",
      "|1238   |[[0, 0.0], [10, 0.0], [20, 0.0], [30, 0.0], [40, 0.0], [50, 0.0], [60, 0.0], [70, 0.0], [80, 0.0], [90, 0.0]]                                                                                                             |\n",
      "|3918   |[[210, 0.016462522], [4413, 0.016419716], [1048, 0.016307987], [784, 0.015563371], [7442, 0.015446218], [532, 0.015117173], [1186, 0.0150848], [1327, 0.014914897], [796, 0.014741212], [148, 0.0146700805]]              |\n",
      "+-------+--------------------------------------------------------------------------------------------------------------------------------------------------------------------------------------------------------------------------+\n",
      "only showing top 20 rows\n",
      "\n"
     ]
    }
   ],
   "source": [
    "# Generate top 10 user recommendations for each game\n",
    "\n",
    "gameRecs = best_model.recommendForAllItems(10)\n",
    "gameRecs.show(truncate = False)"
   ]
  },
  {
   "cell_type": "code",
   "execution_count": 21,
   "metadata": {},
   "outputs": [
    {
     "name": "stdout",
     "output_type": "stream",
     "text": [
      "+-------+----------------------------------------------------------------------------------------------------------------------------------------------------------------------------------------------------+\n",
      "|user_id|recommendations                                                                                                                                                                                     |\n",
      "+-------+----------------------------------------------------------------------------------------------------------------------------------------------------------------------------------------------------+\n",
      "|26     |[[978, 0.21707082], [981, 0.21153267], [984, 0.19746456], [4788, 0.16979359], [2475, 0.16964744], [1336, 0.15337446], [1894, 0.15268216], [979, 0.08811954], [2807, 0.08768034], [3065, 0.07799246]]|\n",
      "|474    |[[0, 0.0], [10, 0.0], [20, 0.0], [30, 0.0], [50, 0.0], [60, 0.0], [70, 0.0], [80, 0.0], [90, 0.0], [100, 0.0]]                                                                                      |\n",
      "|29     |[[0, 0.0], [10, 0.0], [20, 0.0], [30, 0.0], [50, 0.0], [60, 0.0], [70, 0.0], [80, 0.0], [90, 0.0], [100, 0.0]]                                                                                      |\n",
      "+-------+----------------------------------------------------------------------------------------------------------------------------------------------------------------------------------------------------+\n",
      "\n"
     ]
    }
   ],
   "source": [
    "# Generate top 10 game recommendations for a specified set of users\n",
    "\n",
    "users = data.select(als.getUserCol()).distinct().limit(3)\n",
    "userSubsetRecs = best_model.recommendForUserSubset(users, 10)\n",
    "userSubsetRecs.show(truncate = False)"
   ]
  },
  {
   "cell_type": "code",
   "execution_count": 22,
   "metadata": {},
   "outputs": [
    {
     "name": "stdout",
     "output_type": "stream",
     "text": [
      "+-------+------------------------------------------------------------------------------------------------------------------------------------------------------------------------------------------------+\n",
      "|game_id|recommendations                                                                                                                                                                                 |\n",
      "+-------+------------------------------------------------------------------------------------------------------------------------------------------------------------------------------------------------+\n",
      "|2040   |[[1048, 0.7914508], [211, 0.5755134], [530, 0.57310236], [1729, 0.57087266], [1191, 0.54562414], [1390, 0.5381665], [1279, 0.5341244], [1646, 0.53318286], [864, 0.53174835], [148, 0.52893734]]|\n",
      "|2529   |[[1048, 0.6473613], [1729, 0.55844474], [1191, 0.5378163], [532, 0.5116988], [3277, 0.4905089], [1105, 0.49012423], [473, 0.4885398], [530, 0.48213467], [1235, 0.47771454], [346, 0.4757193]]  |\n",
      "|29     |[[0, 0.0], [10, 0.0], [20, 0.0], [30, 0.0], [40, 0.0], [50, 0.0], [60, 0.0], [70, 0.0], [80, 0.0], [90, 0.0]]                                                                                   |\n",
      "+-------+------------------------------------------------------------------------------------------------------------------------------------------------------------------------------------------------+\n",
      "\n"
     ]
    }
   ],
   "source": [
    "# Generate top 10 user recommendations for a specified set of games\n",
    "\n",
    "games = data.select(als.getItemCol()).distinct().limit(3)\n",
    "gameSubSetRecs = best_model.recommendForItemSubset(games, 10)\n",
    "gameSubSetRecs.show(truncate = False)"
   ]
  },
  {
   "cell_type": "code",
   "execution_count": 24,
   "metadata": {},
   "outputs": [
    {
     "name": "stdout",
     "output_type": "stream",
     "text": [
      "Model:\tALS game prediction\n",
      "RMSE:\t161.515160\n",
      "MAE:\t24.526275\n",
      "Explained variance:\t0.000531\n",
      "R squared:\t-0.022804\n",
      "precision:\t0.338325\n",
      "recall:\t0.943998\n"
     ]
    }
   ],
   "source": [
    "# Evaluate game prediction\n",
    "from reco_utils.evaluation.spark_evaluation import SparkRatingEvaluation, SparkRankingEvaluation\n",
    "\n",
    "rating_eval = SparkRatingEvaluation(test, test_predictions, col_user=\"user_id\", col_item=\"game_id\", \n",
    "                                    col_rating=\"hours\", col_prediction=\"prediction\")\n",
    "rank_eval = SparkRankingEvaluation(test, test_predictions, col_user=\"user_id\", col_item=\"game_id\", \n",
    "                                    col_rating=\"hours\", col_prediction=\"prediction\")\n",
    "\n",
    "print(\"Model:\\tALS game prediction\",\n",
    "      \"RMSE:\\t%f\" % rating_eval.rmse(),\n",
    "      \"MAE:\\t%f\" % rating_eval.mae(),\n",
    "      \"Explained variance:\\t%f\" % rating_eval.exp_var(),\n",
    "      \"R squared:\\t%f\" % rating_eval.rsquared(),\n",
    "      \"precision:\\t%f\" % rank_eval.precision_at_k(),\n",
    "      \"recall:\\t%f\" % rank_eval.recall_at_k(), sep='\\n')"
   ]
  },
  {
   "cell_type": "code",
   "execution_count": null,
   "metadata": {},
   "outputs": [],
   "source": []
  },
  {
   "cell_type": "code",
   "execution_count": null,
   "metadata": {},
   "outputs": [],
   "source": []
  }
 ],
 "metadata": {
  "kernelspec": {
   "display_name": "Python [conda env:metis] *",
   "language": "python",
   "name": "conda-env-metis-py"
  },
  "language_info": {
   "codemirror_mode": {
    "name": "ipython",
    "version": 3
   },
   "file_extension": ".py",
   "mimetype": "text/x-python",
   "name": "python",
   "nbconvert_exporter": "python",
   "pygments_lexer": "ipython3",
   "version": "3.6.12"
  }
 },
 "nbformat": 4,
 "nbformat_minor": 4
}
